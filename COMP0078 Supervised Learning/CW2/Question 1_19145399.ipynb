{
 "cells": [
  {
   "cell_type": "markdown",
   "metadata": {},
   "source": [
    "## part 1"
   ]
  },
  {
   "cell_type": "code",
   "execution_count": 1,
   "metadata": {},
   "outputs": [],
   "source": [
    "import numpy as np\n",
    "import matplotlib.pyplot as plt\n",
    "import itertools\n",
    "image = np.loadtxt('zipcombo.dat')\n",
    "data_1 = np.loadtxt('dtrain123.dat')\n",
    "\n",
    "\n",
    "# extracting image and labels\n",
    "\n",
    "y = image[:,0].astype(int)\n",
    "x = image[:, 1:]"
   ]
  },
  {
   "cell_type": "code",
   "execution_count": 2,
   "metadata": {},
   "outputs": [
    {
     "name": "stdout",
     "output_type": "stream",
     "text": [
      "the labels are [0, 1, 2, 3, 4, 5, 6, 7, 8, 9]\n",
      "the number of labels is 9298\n",
      "the size of pixels is 16\n"
     ]
    },
    {
     "data": {
      "image/png": "[encoded data removed]",
      "text/plain": [
       "<Figure size 1000x300 with 10 Axes>"
      ]
     },
     "metadata": {},
     "output_type": "display_data"
    }
   ],
   "source": [
    "# data understanding \n",
    "label = list(set(y))\n",
    "print(\"the labels are\",label)\n",
    "print(\"the number of labels is\",len(y))\n",
    "print(\"the size of pixels is\", int(np.sqrt(np.shape(x)[1])))\n",
    "\n",
    "# generating sample images:\n",
    "plt.figure(figsize=(10,3))\n",
    "for i in range(10):\n",
    "    plt.subplot(2,5,i+1)\n",
    "    # size 256\n",
    "    plt.imshow(x[np.argwhere(y==i)[0],:].reshape(16,16)) \n",
    "    plt.axis('off')"
   ]
  },
  {
   "cell_type": "markdown",
   "metadata": {},
   "source": [
    "#### training function"
   ]
  },
  {
   "cell_type": "code",
   "execution_count": 82,
   "metadata": {},
   "outputs": [],
   "source": [
    "max_iter = 30\n",
    "min_iter = 6\n",
    "\n",
    "# Adding a kernel with dimension as the input \n",
    "def Kd(xm, xn, d):\n",
    "    '''return the polynomial kernel matrix which is parameterized by a positive integer d\n",
    "    controlling the dimension of the polynomial.'''\n",
    "    return (xm @ xn.T)**d\n",
    "\n",
    "#==================================================================================================\n",
    "\n",
    "# one-versus-rest:\n",
    "def OvR(X, y, d, kernel):\n",
    "    '''\n",
    "    input X - images pixel\n",
    "    input y - label\n",
    "    input d - dimension of kernel\n",
    "    inpur kernel - kernel function\n",
    "    return w as updated classifier, accuracy as the prediction accuracy\n",
    "    '''\n",
    "    # kernel \n",
    "    k = kernel(X, X, d)\n",
    "    \n",
    "    # the no.of mistakes \n",
    "    mistake = 0\n",
    "    accuracy= []\n",
    "    # initial classifier w\n",
    "    w = np.zeros((10, X.shape[0])) # 10 classes\n",
    "\n",
    "    # training loop:\n",
    "    for n in range(1,max_iter):\n",
    "        randomI= list(range(X.shape[0]))\n",
    "        np.random.shuffle(randomI) # random sequence of indices\n",
    "\n",
    "        # count mistake and rewrite w\n",
    "        for i in randomI:\n",
    "            # predict y\n",
    "            y_pred = np.argmax(w @ k[i,:])\n",
    "            # if prediction is not the same as true label\n",
    "            if y[i] != y_pred:\n",
    "                mistake +=1\n",
    "                w[int(y[i]), i] +=1   # update by +1\n",
    "                w[int(y_pred), i] -=1      # update by -1\n",
    "        \n",
    "        accuracy.append((n-mistake)/n)    # training accuracy based on number of iteration\n",
    "        mistake = 0 # initial no. of mistake for new iteration\n",
    "        \n",
    "        #convergence:\n",
    "        if (n >= min_iter) and (accuracy[-1]-accuracy[-2]<0.001):\n",
    "            break\n",
    "        else:\n",
    "            continue\n",
    "\n",
    "    return w, accuracy\n",
    "\n",
    "#==================================================================================================\n",
    "\n",
    "\n",
    "# choose two of ten classes and combine them as a group\n",
    "binary_group = list(itertools.combinations(range(10),2)) # k(k − 1)/2 \n",
    "\n",
    "# defining a voting scheme to produce prediction\n",
    "def voting(product):\n",
    "    vote_n = np.zeros(10)                        \n",
    "    vote = int(((np.sign(product)+2)//2)).tolist() \n",
    "    for i,j in enumerate(vote):\n",
    "        vote_n[binary_group[i][j]] +=1       \n",
    "    return np.argmax(vote_n)                     \n",
    "\n",
    "\n",
    "# one-versus-one\n",
    "\n",
    "def OvO(X, y, d, kernel):\n",
    "    '''\n",
    "    input X - images pixel\n",
    "    input y - label\n",
    "    input d - dimension of kernel\n",
    "    inpur kernel - kernel function\n",
    "    return w as updated classifier, accuracy as the prediction accuracy\n",
    "    '''\n",
    "    #kernel\n",
    "    k = kernel(X, X, d)\n",
    "    #initialisation\n",
    "    w = np.zeros((10*9/2, X.shape[0])) # k(k − 1)/2 \n",
    "    mistake = 0\n",
    "    accuracy= []\n",
    "\n",
    "    for n in range(1,max_iter):\n",
    "        randomI= list(range(X.shape[0]))\n",
    "        np.random.shuffle(randomI) \n",
    "        \n",
    "        for i in randomI:\n",
    "            product = w @ kernel[i,:]\n",
    "            y_pred= voting(product)          \n",
    "\n",
    "            if (y_pred != y[i]):\n",
    "                mistake += 1\n",
    "\n",
    "            for index, (p, q) in enumerate(binary_group):\n",
    "                                                                        \n",
    "                if y_data[i]==p and np.sign(product[index])!=-1:     # negative class    \n",
    "                    w[index, i] -=1                                # w = w-1\n",
    "                elif y_data[i]==q and np.sign(product[index])!=1:    # positive class\n",
    "                    w[index, i] +=1                                # w = w+1\n",
    "        \n",
    "        accuracy.append((n-mistake)/n)\n",
    "        mistake = 0\n",
    "        \n",
    "        #convergence\n",
    "        if (n >= 2) and (accuracy[-1]-accuracy[-2]<0.01):\n",
    "            break\n",
    "        else:\n",
    "            continue\n",
    "\n",
    "    return w, accuracy\n"
   ]
  },
  {
   "cell_type": "markdown",
   "metadata": {},
   "source": [
    "#### data processing function"
   ]
  },
  {
   "cell_type": "code",
   "execution_count": 83,
   "metadata": {},
   "outputs": [],
   "source": [
    "# split the dataset into training and testing sets\n",
    "def train_test_split(X, y, percent = 0.8):\n",
    "    randomI= list(range(X.shape[0]))\n",
    "    np.random.shuffle(randomI)\n",
    "    p = int(percent*X.shape[0])\n",
    "    train_X, test_X = X[randomI[:p]], X[randomI[p:]]\n",
    "    train_y, test_y = y[randomI[:p]], y[randomI[p:]]\n",
    "    return train_X, train_y, test_X, test_y\n",
    "\n",
    "#=======================================================================================================\n",
    "    \n",
    "# split the dataset into k-fold\n",
    "def kfold_split(X, y, k):\n",
    "    randomI= list(range(X.shape[0]))\n",
    "    np.random.shuffle(randomI)\n",
    "    p = np.array_split(randomI, k)\n",
    "    kfold_data =[]\n",
    "    for i in range(k):\n",
    "        valid_X, train_X = X[p[i]], X[np.setdiff1d(randomI, p[i])]\n",
    "        valid_y, train_y = y[p[i]], y[np.setdiff1d(randomI, p[i])]\n",
    "        kfold_data.append([train_X, train_y, valid_X, valid_y])\n",
    "    return kfold_data"
   ]
  },
  {
   "cell_type": "markdown",
   "metadata": {},
   "source": [
    "#### testing function"
   ]
  },
  {
   "cell_type": "code",
   "execution_count": 84,
   "metadata": {},
   "outputs": [],
   "source": [
    "def Error(train_X, test_X, test_y, w, d, kernel):\n",
    "    '''\n",
    "    input train_X：image training set\n",
    "    input test_X：image testing set\n",
    "    input test_y: label training set\n",
    "    input w: classifier weight\n",
    "    input d: dimension\n",
    "    input kernel: kernel function\n",
    "    return error as testing error rate and confusion_mat as confusion matrix\n",
    "    '''\n",
    "\n",
    "    # prediction \n",
    "    k = kernel(train_X, test_X, d)\n",
    "    y_pred = np.argmax(w @ k, axis =0)\n",
    "\n",
    "    # error rate\n",
    "    error = np.sum(y_pred != test_y)/len(test_y)\n",
    "\n",
    "    # confusion matrix\n",
    "    confusion_mat = np.zeros((10,10))\n",
    "    for i,j in zip(test_y, y_pred):\n",
    "        if i != j:                      # mistake\n",
    "            confusion_mat[i,j] += 1     \n",
    "\n",
    "            # compute entries of the matrix\n",
    "            confusion_mat = np.nan_to_num(confusion_mat.T/np.sum(confusion_mat, axis = 1)).T\n",
    "\n",
    "    return error, confusion_mat\n",
    "\n",
    "# for one-vevrsus-one kernel perceptron\n",
    "def Error_OvO(train_X, test_X, test_y, w, d, kernel):\n",
    "     '''\n",
    "    input train_X：image training set\n",
    "    input test_X：image testing set\n",
    "    input test_y: label training set\n",
    "    input w: classifier weight\n",
    "    input d: dimension\n",
    "    input kernel: kernel function\n",
    "    return error as testing error rate\n",
    "    '''\n",
    "    k = kernel(train_X, test_X, d)\n",
    "    y_pred = np.zeros(len(test_X))\n",
    "    for index in range(len(test_y)):\n",
    "        y_pred[index] = voting(w @ k[:,index])\n",
    "    y_pred = int(y_pred)\n",
    "    error = np.sum(y_pred != test_y)/len(test_y)\n",
    "\n",
    "    return error"
   ]
  },
  {
   "cell_type": "markdown",
   "metadata": {},
   "source": [
    "#### function to compute data required by Q1"
   ]
  },
  {
   "cell_type": "code",
   "execution_count": 85,
   "metadata": {},
   "outputs": [],
   "source": [
    "def Q1(X, y, kernel, classifier, test_f):\n",
    "\n",
    "    error_list =[]\n",
    "    for i in range(7):\n",
    "        test_error_list =[]\n",
    "        train_error_list =[]\n",
    "        \n",
    "        if kernel == Kd:         \n",
    "            d = i+1                           \n",
    "        else: \n",
    "            d = 2**(-i-1)\n",
    "\n",
    "            \n",
    "        for run in range(20):\n",
    "            train_X, train_y, test_X, test_y = train_test_split(X, y)\n",
    "            w, accuracy = classifier(train_X, train_y, d, kernel)\n",
    "            \n",
    "            if test_f == Error:\n",
    "                test_error,_ = test_f(train_X, test_X, test_y, w, d, kernel)\n",
    "            else:\n",
    "                test_error = test_f(train_X, test_X, test_y, w, d, kernel)\n",
    "\n",
    "                \n",
    "            test_error_list.append(test_error)          \n",
    "            train_error_list.append(1-accuracy[-1])\n",
    "\n",
    "        # mean, std:\n",
    "        error_list.append([np.mean(train_error_list), np.std(train_error_list), np.mean(test_error_list), np.std(test_error_list)])\n",
    "    return (np.array(error_list)*100).round(4)\n"
   ]
  },
  {
   "cell_type": "markdown",
   "metadata": {},
   "source": [
    "#### function to compute data required by Q2 and Q3"
   ]
  },
  {
   "cell_type": "code",
   "execution_count": 91,
   "metadata": {},
   "outputs": [],
   "source": [
    "def Q23(X, y, kernel, classifier, test_f):\n",
    "    data_run=[] \n",
    "    confusion_mistake =[]\n",
    "    for run in range(20):\n",
    "        # split the data into k-fold where k = 5\n",
    "        train_X, train_y, test_X, test_y = train_test_split(X, y)\n",
    "        fold_data= kfold_split(train_X, train_y,5)\n",
    "        mean_kfold_test_error = []\n",
    "\n",
    "        for i in range(7):\n",
    "            kfold_test_error = []\n",
    "            \n",
    "            if kernel == Kd:  \n",
    "                d = i+1 \n",
    "            else: \n",
    "                d = 2**(-i-1) \n",
    "\n",
    "            for j in range(5):\n",
    "                # obtain w by k-fold training:\n",
    "                fold_X,fold_y, valid_X,valid_y = fold_data[j]\n",
    "                w,_ = classifier(fold_X,fold_y,d,kernel)\n",
    "                \n",
    "                #OvR\n",
    "                if test_f == Error:        \n",
    "                    kfold_test_error.append(test_f(fold_X, valid_X, valid_y, w, d, kernel)[0])\n",
    "                #OvO\n",
    "                else:                       \n",
    "                    kfold_test_error.append(test_f(fold_X, valid_X, valid_y, w, d, kernel))           \n",
    "            \n",
    "            mean_kfold_test_error.append(np.mean(kfold_test_error))\n",
    "        if kernel != Kd:\n",
    "            optimal_d = np.power(float(2),(-np.argmin(mean_kfold_test_error)-1))           \n",
    "        else: optimal_d = np.argmin(mean_kfold_test_error)+1\n",
    "        \n",
    "        optimal_w,_ = classifier(train_X, train_y, optimal_d, kernel)\n",
    "\n",
    "        #OvO\n",
    "        if test_f == Error:   \n",
    "            rate, mat = test_f(train_X, test_X, test_y,optimal_w,optimal_d, kernel)\n",
    "            data_run.append([optimal_d, rate])\n",
    "            confusion_mistake.append(mat)\n",
    "\n",
    "        #OvO\n",
    "        else:                    \n",
    "            rate = test_f(x_train, x_test, y_test,optimal_w,optimal_d, kernel)\n",
    "            data_run.append([optimal_d, rate])\n",
    "\n",
    "    if test_f == Error:\n",
    "        return np.array(data_run), np.array(confusion_mistake)\n",
    "    else:\n",
    "        return np.array(data_run)\n",
    "\n"
   ]
  },
  {
   "cell_type": "markdown",
   "metadata": {},
   "source": [
    "# Q1 \n",
    "### OVR"
   ]
  },
  {
   "cell_type": "code",
   "execution_count": 8,
   "metadata": {
    "scrolled": true
   },
   "outputs": [
    {
     "name": "stderr",
     "output_type": "stream",
     "text": [
      "C:\\Users\\ZLiu\\AppData\\Local\\Temp\\ipykernel_13132\\1114347381.py:18: RuntimeWarning: invalid value encountered in true_divide\n",
      "  confusion_mtx = np.nan_to_num(confusion_mtx.T/np.sum(confusion_mtx, axis = 1)).T\n"
     ]
    },
    {
     "data": {
      "text/plain": [
       "array([[7.397, 0.288, 9.452, 2.194],\n",
       "       [1.19 , 0.16 , 4.317, 0.687],\n",
       "       [0.454, 0.109, 3.444, 0.424],\n",
       "       [0.275, 0.095, 3.089, 0.502],\n",
       "       [0.198, 0.083, 3.089, 0.243],\n",
       "       [0.157, 0.046, 3.446, 0.509],\n",
       "       [0.122, 0.081, 3.226, 0.388]])"
      ]
     },
     "execution_count": 8,
     "metadata": {},
     "output_type": "execute_result"
    }
   ],
   "source": [
    "Q1_train_test_error = Q1(X, y, Kd, OvR, Error)\n",
    "print(Q1_train_test_error)"
   ]
  },
  {
   "cell_type": "markdown",
   "metadata": {},
   "source": [
    "# Q2 & Q3"
   ]
  },
  {
   "cell_type": "code",
   "execution_count": 9,
   "metadata": {},
   "outputs": [
    {
     "name": "stderr",
     "output_type": "stream",
     "text": [
      "C:\\Users\\ZLiu\\AppData\\Local\\Temp\\ipykernel_13132\\1114347381.py:18: RuntimeWarning: invalid value encountered in true_divide\n",
      "  confusion_mtx = np.nan_to_num(confusion_mtx.T/np.sum(confusion_mtx, axis = 1)).T\n"
     ]
    }
   ],
   "source": [
    "Q2_data, Q3_data = Q23(X, y, Kd, classifier=OvR, test_f = Error) "
   ]
  },
  {
   "cell_type": "code",
   "execution_count": 23,
   "metadata": {},
   "outputs": [
    {
     "name": "stdout",
     "output_type": "stream",
     "text": [
      "[[6.         4.30107527]\n",
      " [6.         3.22580645]\n",
      " [7.         3.33333333]\n",
      " [5.         3.49462366]\n",
      " [6.         3.92473118]\n",
      " [6.         3.65591398]\n",
      " [4.         3.65591398]\n",
      " [6.         4.03225806]\n",
      " [4.         2.90322581]\n",
      " [6.         2.84946237]\n",
      " [6.         2.90322581]\n",
      " [4.         3.38709677]\n",
      " [5.         2.52688172]\n",
      " [7.         3.70967742]\n",
      " [4.         3.60215054]\n",
      " [7.         3.44086022]\n",
      " [5.         3.49462366]\n",
      " [6.         3.33333333]\n",
      " [7.         3.17204301]\n",
      " [7.         3.01075269]]\n"
     ]
    }
   ],
   "source": [
    "Q2_error = np.array(Q2_data)\n",
    "Q2_error[:,-1].round(4) *= 100\n",
    "print(Q2_error)"
   ]
  },
  {
   "cell_type": "code",
   "execution_count": 12,
   "metadata": {},
   "outputs": [
    {
     "name": "stdout",
     "output_type": "stream",
     "text": [
      "[[0.    0.    0.192 0.155 0.073 0.259 0.189 0.022 0.055 0.006]\n",
      " [0.    0.    0.031 0.012 0.361 0.    0.191 0.028 0.077 0.   ]\n",
      " [0.115 0.031 0.    0.201 0.322 0.016 0.041 0.19  0.076 0.006]\n",
      " [0.03  0.003 0.149 0.    0.008 0.421 0.    0.179 0.191 0.019]\n",
      " [0.014 0.104 0.2   0.072 0.    0.028 0.133 0.123 0.012 0.313]\n",
      " [0.172 0.    0.076 0.194 0.133 0.    0.177 0.013 0.159 0.077]\n",
      " [0.323 0.081 0.041 0.006 0.336 0.093 0.    0.    0.12  0.   ]\n",
      " [0.    0.044 0.047 0.111 0.226 0.042 0.    0.    0.134 0.396]\n",
      " [0.077 0.112 0.208 0.123 0.107 0.225 0.028 0.098 0.    0.023]\n",
      " [0.013 0.018 0.025 0.068 0.332 0.065 0.006 0.437 0.036 0.   ]]\n",
      "[[0.    0.    0.249 0.216 0.155 0.311 0.242 0.066 0.133 0.027]\n",
      " [0.    0.    0.111 0.054 0.344 0.    0.273 0.109 0.221 0.   ]\n",
      " [0.2   0.111 0.    0.243 0.265 0.055 0.079 0.192 0.145 0.019]\n",
      " [0.109 0.014 0.217 0.    0.028 0.279 0.    0.248 0.233 0.055]\n",
      " [0.055 0.16  0.226 0.148 0.    0.037 0.193 0.197 0.054 0.249]\n",
      " [0.206 0.    0.131 0.203 0.226 0.    0.217 0.032 0.197 0.132]\n",
      " [0.33  0.208 0.069 0.027 0.32  0.123 0.    0.    0.196 0.   ]\n",
      " [0.    0.091 0.106 0.216 0.225 0.079 0.    0.    0.209 0.322]\n",
      " [0.161 0.195 0.209 0.191 0.155 0.263 0.109 0.186 0.    0.059]\n",
      " [0.035 0.051 0.075 0.169 0.259 0.155 0.027 0.338 0.111 0.   ]]\n"
     ]
    }
   ],
   "source": [
    "print(np.mean(Q3_data, axis =0).round(3))\n",
    "print(np.std(Q3_data, axis =0).round(3))"
   ]
  },
  {
   "cell_type": "markdown",
   "metadata": {},
   "source": [
    "## Q4"
   ]
  },
  {
   "cell_type": "code",
   "execution_count": 60,
   "metadata": {},
   "outputs": [
    {
     "name": "stdout",
     "output_type": "stream",
     "text": [
      "[ 720 8835 2700 8261 5296]\n",
      "[14 16 17 36 39]\n"
     ]
    }
   ],
   "source": [
    "Q4_data =np.zeros_like(y)\n",
    "\n",
    "# 40 runs to find out the 5 hardest images to classify\n",
    "for run in range(40):\n",
    "    # training\n",
    "    train_X, train_y, test_X, test_y = train_test_split(X, y)\n",
    "    w, _ = OvR(train_X, train_y, 6, Kd)\n",
    "    # predicting\n",
    "    test4_kernel_mat = Kd(train_X, X, 6)\n",
    "    y_pred = np.argmax(w @ test4_kernel_mat,axis =0)\n",
    "    \n",
    "    #counting incorrect prediction\n",
    "    Q4_data[np.argwhere(y_pred != y)]+=1\n",
    "\n",
    "#output the 5 most often misclassified\n",
    "print((np.argsort(Q4_data))[-5:])\n",
    "print(np.sort(Q4_data)[-5:])"
   ]
  },
  {
   "cell_type": "code",
   "execution_count": 61,
   "metadata": {},
   "outputs": [
    {
     "data": {
      "image/png": "[encoded data removed]",
      "text/plain": [
       "<Figure size 3000x2000 with 5 Axes>"
      ]
     },
     "metadata": {},
     "output_type": "display_data"
    }
   ],
   "source": [
    "# visualising the 5 images\n",
    "\n",
    "worst5 = np.argsort(Q4_data)[-5:]\n",
    "\n",
    "plt.figure(figsize = (30,20))\n",
    "for i,j in enumerate(worst5):\n",
    "    plt.subplot(2,5,i+1)\n",
    "    plt.imshow(x[j,:].reshape(16,16))\n",
    "    plt.title('label = %.0f'%int(y[j]) + ', and prediction = %.0f'%int(y_pred[j]), fontsize=20)\n",
    "    plt.axis('off')\n"
   ]
  },
  {
   "cell_type": "markdown",
   "metadata": {},
   "source": [
    "## Q5"
   ]
  },
  {
   "cell_type": "code",
   "execution_count": 87,
   "metadata": {},
   "outputs": [],
   "source": [
    "def Gaussian(p, q, k):\n",
    "    p_norm = np.sum(p**2, axis =-1)\n",
    "    q_norm = np.sum(q**2, axis =-1)\n",
    "    return np.exp(-k*(p_norm[:, None] + q_norm[None,:]-2*(p @ q.T)))"
   ]
  },
  {
   "cell_type": "code",
   "execution_count": 88,
   "metadata": {},
   "outputs": [
    {
     "name": "stderr",
     "output_type": "stream",
     "text": [
      "C:\\Users\\ZLiu\\AppData\\Local\\Temp\\ipykernel_13132\\1114347381.py:18: RuntimeWarning: invalid value encountered in true_divide\n",
      "  confusion_mtx = np.nan_to_num(confusion_mtx.T/np.sum(confusion_mtx, axis = 1)).T\n"
     ]
    },
    {
     "name": "stdout",
     "output_type": "stream",
     "text": [
      "[[0.000e+00 0.000e+00 6.108e+00 4.490e-01]\n",
      " [0.000e+00 0.000e+00 5.831e+00 4.250e-01]\n",
      " [1.000e-03 6.000e-03 5.097e+00 5.280e-01]\n",
      " [2.100e-02 1.700e-02 4.390e+00 4.050e-01]\n",
      " [3.000e-02 2.100e-02 3.487e+00 3.900e-01]\n",
      " [8.200e-02 4.600e-02 2.833e+00 3.490e-01]\n",
      " [2.500e-01 7.900e-02 3.215e+00 3.190e-01]]\n"
     ]
    }
   ],
   "source": [
    "min_iter = 7\n",
    "GaussQ1_error = Q1(X, y, Gaussian, OvR, Error)\n",
    "print(GaussQ1_error)"
   ]
  },
  {
   "cell_type": "code",
   "execution_count": 92,
   "metadata": {},
   "outputs": [
    {
     "name": "stderr",
     "output_type": "stream",
     "text": [
      "C:\\Users\\ZLiu\\AppData\\Local\\Temp\\ipykernel_13132\\1114347381.py:18: RuntimeWarning: invalid value encountered in true_divide\n",
      "  confusion_mtx = np.nan_to_num(confusion_mtx.T/np.sum(confusion_mtx, axis = 1)).T\n"
     ]
    }
   ],
   "source": [
    "GaussQ2_table = Q23(X, y, Gaussian, OvR, Error)"
   ]
  },
  {
   "cell_type": "code",
   "execution_count": 93,
   "metadata": {},
   "outputs": [
    {
     "name": "stdout",
     "output_type": "stream",
     "text": [
      "[[0.015625   2.6344086 ]\n",
      " [0.0078125  2.95698925]\n",
      " [0.015625   3.01075269]\n",
      " [0.0078125  4.19354839]\n",
      " [0.0078125  3.17204301]\n",
      " [0.015625   3.06451613]\n",
      " [0.015625   3.8172043 ]\n",
      " [0.015625   2.58064516]\n",
      " [0.015625   3.38709677]\n",
      " [0.015625   3.06451613]\n",
      " [0.015625   3.38709677]\n",
      " [0.015625   2.95698925]\n",
      " [0.015625   2.41935484]\n",
      " [0.015625   2.68817204]\n",
      " [0.015625   2.6344086 ]\n",
      " [0.015625   2.58064516]\n",
      " [0.015625   3.01075269]\n",
      " [0.015625   3.01075269]\n",
      " [0.015625   3.17204301]\n",
      " [0.015625   2.74193548]]\n"
     ]
    }
   ],
   "source": [
    "Q5_error = np.array(GaussQ2_table[0])\n",
    "Q5_error[:,-1] *= 100\n",
    "print(Q5_error.round(4))"
   ]
  },
  {
   "cell_type": "markdown",
   "metadata": {},
   "source": [
    "# Q6"
   ]
  },
  {
   "cell_type": "code",
   "execution_count": 19,
   "metadata": {},
   "outputs": [
    {
     "name": "stdout",
     "output_type": "stream",
     "text": [
      "[[6.081 0.225 7.438 0.791]\n",
      " [2.233 0.173 4.422 0.64 ]\n",
      " [1.381 0.112 3.634 0.435]\n",
      " [1.113 0.165 3.723 0.518]\n",
      " [0.912 0.121 3.589 0.399]\n",
      " [0.818 0.092 3.508 0.433]\n",
      " [0.752 0.117 3.79  0.479]]\n"
     ]
    }
   ],
   "source": [
    "min_iter = 3\n",
    "Q6_I_data = Q1(X,y, Kd, OvO, Error_OvO)\n",
    "print(Q6_I_data)"
   ]
  },
  {
   "cell_type": "code",
   "execution_count": 94,
   "metadata": {},
   "outputs": [
    {
     "name": "stdout",
     "output_type": "stream",
     "text": [
      "[[6.      0.03817]\n",
      " [4.      0.03871]\n",
      " [5.      0.03118]\n",
      " [4.      0.03656]\n",
      " [4.      0.02849]\n",
      " [4.      0.0371 ]\n",
      " [5.      0.03441]\n",
      " [4.      0.03118]\n",
      " [4.      0.03118]\n",
      " [6.      0.03065]\n",
      " [6.      0.03495]\n",
      " [5.      0.03172]\n",
      " [3.      0.03172]\n",
      " [5.      0.03763]\n",
      " [5.      0.02581]\n",
      " [6.      0.03333]\n",
      " [6.      0.03441]\n",
      " [4.      0.03011]\n",
      " [4.      0.02742]\n",
      " [5.      0.03011]]\n"
     ]
    }
   ],
   "source": [
    "Q6_II_data = Q23(X,y, Kd, OvO, Error_OvO)\n",
    "print(Q6_II_data.round(4))"
   ]
  },
  {
   "cell_type": "code",
   "execution_count": null,
   "metadata": {},
   "outputs": [],
   "source": []
  }
 ],
 "metadata": {
  "interpreter": {
   "hash": "47557d4c79d94dea488ad004c647bd9b8540fb25b84014345ab51c2bc3084fc6"
  },
  "kernelspec": {
   "display_name": "Python 3 (ipykernel)",
   "language": "python",
   "name": "python3"
  },
  "language_info": {
   "codemirror_mode": {
    "name": "ipython",
    "version": 3
   },
   "file_extension": ".py",
   "mimetype": "text/x-python",
   "name": "python",
   "nbconvert_exporter": "python",
   "pygments_lexer": "ipython3",
   "version": "3.9.12"
  }
 },
 "nbformat": 4,
 "nbformat_minor": 2
}
