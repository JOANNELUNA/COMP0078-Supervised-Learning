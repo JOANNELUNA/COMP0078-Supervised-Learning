{
 "cells": [
  {
   "cell_type": "markdown",
   "metadata": {},
   "source": [
    "## part 1"
   ]
  },
  {
   "cell_type": "code",
   "execution_count": 72,
   "metadata": {},
   "outputs": [],
   "source": [
    "import numpy as np\n",
    "import matplotlib.pyplot as plt\n",
    "import itertools\n",
    "data = np.loadtxt('zipcombo.dat')\n",
    "data_1 = np.loadtxt('dtrain123.dat')\n",
    "\n",
    "\n",
    "# extracting image and labels\n",
    "\n",
    "y = data[:,0].astype(int)\n",
    "x = data[:, 1:]"
   ]
  },
  {
   "cell_type": "code",
   "execution_count": 73,
   "metadata": {},
   "outputs": [
    {
     "data": {
      "image/png": "[encoded data removed]",
      "text/plain": [
       "<Figure size 720x360 with 10 Axes>"
      ]
     },
     "metadata": {
      "needs_background": "light"
     },
     "output_type": "display_data"
    }
   ],
   "source": [
    "# generating sample images:\n",
    "plt.figure(figsize=(10,5))\n",
    "for i in range(10):\n",
    "    plt.subplot(2,5,i+1)\n",
    "    plt.imshow(x[np.argwhere(y==i)[0],:].reshape(16,16), cmap = \"gray\")\n",
    "    plt.axis('off')"
   ]
  },
  {
   "cell_type": "markdown",
   "metadata": {},
   "source": [
    "#### training function"
   ]
  },
  {
   "cell_type": "code",
   "execution_count": 74,
   "metadata": {},
   "outputs": [],
   "source": [
    "max_iter = 30\n",
    "min_iter = 5\n",
    "\n",
    "# defining the polynomial kernel with degree as input argument\n",
    "def poly_kernel(xi,xj, degree):\n",
    "    return np.dot(xi,xj.T)**degree\n",
    "\n",
    "\n",
    "# defining the training function for one-versus-rest\n",
    "# generalised kernel percpetron:\n",
    "\n",
    "def multiclassOvR(X_data,y_data, degree, kernel_function):\n",
    "\n",
    "    #generate kernel matrix:\n",
    "    kernel_mtx = kernel_function(X_data,X_data, degree)\n",
    "    #initialisation\n",
    "    ini_weight = np.zeros((10, X_data.shape[0]))\n",
    "    weight = ini_weight\n",
    "\n",
    "    # record running mistakes to calculate training acuracy\n",
    "    mistake_count = 0\n",
    "    accuracy= []\n",
    "    n,d = X_data.shape\n",
    "\n",
    "    # training loop:\n",
    "    for nIter in range(max_iter):\n",
    "\n",
    "        # randomly shuffle the data before training to simulate an online\n",
    "        # learning setting\n",
    "        indices= list(range(n))\n",
    "        np.random.shuffle(indices)\n",
    "\n",
    "        # online algorithm receives the data\n",
    "        for i in indices:\n",
    "            # generating prediction\n",
    "            y_pred = np.argmax(weight @ kernel_mtx[i,:])\n",
    "            # assessing correctness and update the model correspondingly\n",
    "            if y_data[i] != y_pred:\n",
    "                mistake_count +=1\n",
    "                weight[int(y_data[i]), i] +=1   # update the correct classifier by +1\n",
    "                weight[int(y_pred), i] -=1      # vice versa\n",
    "        \n",
    "        accuracy.append((n-mistake_count)/n)    # training accuracy\n",
    "        mistake_count = 0\n",
    "        # print('epoch', str(nIter+1) ,': \\n ', 'Current Accuracy is', accuracy[nIter] )\n",
    "        \n",
    "        #stopping criterion:\n",
    "        if (nIter >= min_iter) and (accuracy[-1]-accuracy[-2]<0.01):\n",
    "            break\n",
    "        else:\n",
    "            continue\n",
    "\n",
    "    return weight, accuracy\n",
    "\n",
    "#===================================================================================================\n",
    "#===================================================================================================\n",
    "\n",
    "\n",
    "# contructing a list containing the index of all classifier\n",
    "binary_comb = list(itertools.combinations(range(10),2))\n",
    "\n",
    "# defining a voting scheme to produce prediction\n",
    "def voting(confidence):\n",
    "\n",
    "    vote_count = np.zeros(10)                        # counting votes\n",
    "    vote = ((np.sign(confidence)+2)//2).astype(int)  # calculate prediction for eaach classifier\n",
    "    for i,j in enumerate(vote.tolist()):\n",
    "        vote_count[binary_comb[i][int(j)]] +=1       # counting votes\n",
    "    return np.argmax(vote_count)                     # making prediction\n",
    "\n",
    "\n",
    "# defining the training function for one-versus-one\n",
    "# generalised kernel percpetron:\n",
    "\n",
    "def multiclassOvO(X_data,y_data, degree, kernel_function):\n",
    "\n",
    "    #generate kernel matrix:\n",
    "    kernel_mtx = kernel_function(X_data,X_data, degree)\n",
    "    #initialisation\n",
    "    ini_weight = np.zeros((45, X_data.shape[0]))\n",
    "    mistake_count = 0\n",
    "    accuracy= []\n",
    "    n,d = X_data.shape\n",
    "\n",
    "    weight = ini_weight\n",
    "    for nIter in range(max_iter):\n",
    "        indices= list(range(n))\n",
    "        np.random.shuffle(indices) \n",
    "        \n",
    "\n",
    "        for i in indices:\n",
    "            confidence = weight @ kernel_mtx[i,:]\n",
    "            y_pred= voting(confidence)          # making prediction\n",
    "\n",
    "            if (y_pred != y_data[i]):\n",
    "                mistake_count += 1\n",
    "\n",
    "            for index, (p, q) in enumerate(binary_comb):\n",
    "                                                                        # in which case:\n",
    "                if y_data[i]==p and np.sign(confidence[index])!=-1:     # y should be in the negative class    \n",
    "                    weight[index, i] -=1                                # lower alpha by 1\n",
    "                elif y_data[i]==q and np.sign(confidence[index])!=1:    # y should be in the positive class\n",
    "                    weight[index, i] +=1                                # increase alpha by 1\n",
    "\n",
    "\n",
    "        \n",
    "        accuracy.append((n-mistake_count)/n)\n",
    "        mistake_count = 0\n",
    "        # print('epoch', str(nIter+1) ,': \\n ', 'Current Accuracy is', accuracy[nIter] )\n",
    "        \n",
    "        #stopping criterion\n",
    "        if (nIter >= 2) and (accuracy[-1]-accuracy[-2]<0.1):\n",
    "            break\n",
    "        else:\n",
    "            continue\n",
    "\n",
    "    return weight, accuracy\n"
   ]
  },
  {
   "cell_type": "markdown",
   "metadata": {},
   "source": [
    "#### data processing function"
   ]
  },
  {
   "cell_type": "code",
   "execution_count": 75,
   "metadata": {},
   "outputs": [],
   "source": [
    "# defining function to split the dataset into training and testing\n",
    "\n",
    "def train_test_split(X_data, y_data, percent =0.8):\n",
    "    n,d = X_data.shape\n",
    "    indices= list(range(n))\n",
    "    np.random.shuffle(indices)\n",
    "    split = int(percent*n)\n",
    "    train_x, test_x = X_data[indices[:split]], X_data[indices[split:]]\n",
    "    train_y, test_y = y_data[indices[:split]], y_data[indices[split:]]\n",
    "    return train_x,train_y, test_x,test_y\n",
    "\n",
    "#=======================================================================================================\n",
    "    \n",
    "# defining function to split the dataset into k-fold\n",
    "\n",
    "def kfold_validation(X_data, y_data, k):\n",
    "    n,d = X_data.shape\n",
    "    indices = list(range(n))\n",
    "    np.random.shuffle(indices)\n",
    "    split_indices = np.array_split(indices, k)\n",
    "    kfold_data =[]\n",
    "    for i in range(k):\n",
    "        valid_x, train_x = X_data[split_indices[i]], X_data[np.setdiff1d(indices, split_indices[i])]\n",
    "        valid_y, train_y = y_data[split_indices[i]], y_data[np.setdiff1d(indices, split_indices[i])]\n",
    "        kfold_data.append([train_x,train_y, valid_x,valid_y])\n",
    "    return kfold_data"
   ]
  },
  {
   "cell_type": "markdown",
   "metadata": {},
   "source": [
    "#### testing function"
   ]
  },
  {
   "cell_type": "code",
   "execution_count": 76,
   "metadata": {},
   "outputs": [],
   "source": [
    "# defining a testing function to compute both test error and confusion matrix\n",
    "def KP_test(X_train,X_test,y_test, weight,degree, kernel_function):\n",
    "\n",
    "    # generating prediction using weight of trained model\n",
    "    test_kernel_mtx = kernel_function(X_train, X_test,degree)\n",
    "    y_pred = np.argmax(weight @ test_kernel_mtx,axis =0)\n",
    "\n",
    "    # calculating error rate\n",
    "    test_error = np.sum(y_pred != y_test)/len(y_test)\n",
    "\n",
    "    # constructing confusion matrix\n",
    "    confusion_mtx = np.zeros((10,10))\n",
    "    for i,j in zip(y_test, y_pred):\n",
    "        if i != j:                      # if the prediction is incorrect\n",
    "            confusion_mtx[i,j] += 1     # record the mistake\n",
    "\n",
    "            # compute entries of the matrix\n",
    "            confusion_mtx = np.nan_to_num(confusion_mtx.T/np.sum(confusion_mtx, axis = 1)).T\n",
    "\n",
    "    return test_error, confusion_mtx\n",
    "\n",
    "# defining a similar function for one-vevrsus-one kernel perceptron\n",
    "def KP_test_OvO(X_train,X_test,y_test, weight,degree, kernel_function):\n",
    "    test_kernel_mtx = kernel_function(X_train, X_test,degree)\n",
    "    y_pred = np.zeros(len(y_test))\n",
    "    # generating prediction using the voting function\n",
    "    for index in range(len(y_test)):\n",
    "        y_pred[index] = voting(weight @ test_kernel_mtx[:,index])\n",
    "    y_pred = y_pred.astype(int)\n",
    "\n",
    "    test_error = np.sum(y_pred != y_test)/len(y_test)\n",
    "\n",
    "    return test_error"
   ]
  },
  {
   "cell_type": "markdown",
   "metadata": {},
   "source": [
    "#### function to compute data required by Q1"
   ]
  },
  {
   "cell_type": "code",
   "execution_count": 77,
   "metadata": {},
   "outputs": [],
   "source": [
    "# function to output \" basic result\" question\n",
    "def Q1_function(x_data,y_data, kernel_function, gen_method, test_f):\n",
    "\n",
    "    Q1_data =[]\n",
    "    for i in range(7):\n",
    "        test_error_list =[]\n",
    "        train_error_list =[]\n",
    "#==================================================================================================       \n",
    "        if kernel_function == poly_kernel:         # assigning different feasible parameter range\n",
    "            degree = i+1                           # depending on which kernel function\n",
    "        else: \n",
    "            degree = 3**(-i-1)\n",
    "#==================================================================================================\n",
    "        for run in range(20):\n",
    "            # training on 80% of the dataset\n",
    "            x_train,y_train,x_test,y_test = train_test_split(x_data,y_data)\n",
    "            weight, accuracy = gen_method(x_train,y_train,degree, kernel_function)\n",
    "#==================================================================================================            \n",
    "            # test error are evaluated differently depending on which generalisatoin method\n",
    "            if test_f == KP_test:\n",
    "                test_error,_ = test_f(x_train,x_test,y_test,weight,degree, kernel_function)\n",
    "            else:\n",
    "                test_error = test_f(x_train,x_test,y_test,weight,degree, kernel_function)\n",
    "#==================================================================================================\n",
    "            test_error_list.append(test_error)          # recording the error rates\n",
    "            train_error_list.append(1-accuracy[-1])\n",
    "\n",
    "        # compute mean and std:\n",
    "        Q1_data.append([np.mean(train_error_list), np.std(train_error_list), np.mean(test_error_list), np.std(test_error_list)])\n",
    "    return (np.array(Q1_data)*100).round(3)\n"
   ]
  },
  {
   "cell_type": "markdown",
   "metadata": {},
   "source": [
    "#### function to compute data required by Q2 and Q3"
   ]
  },
  {
   "cell_type": "code",
   "execution_count": 104,
   "metadata": {},
   "outputs": [],
   "source": [
    "# function to output \"cross validation\" and \"confusion matrix\" question:\n",
    "\n",
    "def Q2_Q3_function(x_data,y_data,kernel_function, gen_method,test_f):\n",
    "    data_run=[]\n",
    "    confusion_mistake =[]\n",
    "    for run in range(20):\n",
    "        # split the data into k-fold\n",
    "        x_train,y_train,x_test,y_test = train_test_split(x_data,y_data)\n",
    "        fold_data= kfold_validation(x_train,y_train,5)\n",
    "        data_i = []\n",
    "\n",
    "        for i in range(7):\n",
    "            kfold_test_error = []\n",
    "#==================================================================================================\n",
    "            if kernel_function != poly_kernel:        # assigning different feasible parameter range\n",
    "                degree = 3**(-i-1)                    # depending on which kernel function\n",
    "            else: degree = i+1\n",
    "#==================================================================================================\n",
    "            \n",
    "\n",
    "            for j in range(5):\n",
    "                # k-fold training:\n",
    "                fold_x,fold_y, valid_x,valid_y = fold_data[j]\n",
    "                weight,_ = gen_method(fold_x,fold_y,degree,kernel_function)\n",
    "\n",
    "\n",
    "#==================================================================================================\n",
    "                # test error are evaluated differently depending on which generalisatoin method\n",
    "                if test_f == KP_test:       #OvR generalisation\n",
    "                    kfold_test_error.append(test_f(fold_x,valid_x,valid_y,weight,degree, kernel_function)[0])\n",
    "                else:                       #OvO generalisation\n",
    "                    kfold_test_error.append(test_f(fold_x,valid_x,valid_y,weight,degree, kernel_function))\n",
    "#==================================================================================================\n",
    "            \n",
    "            \n",
    "            data_i.append(np.mean(kfold_test_error))\n",
    "        if kernel_function != poly_kernel:\n",
    "            d_star = np.power(float(3),(-np.argmin(data_i)-1))           # obtaining optimal d_star and corresponding model\n",
    "        else: d_star = np.argmin(data_i)+1\n",
    "        \n",
    "        optimal_weight,_ = gen_method(x_train, y_train, d_star, kernel_function)\n",
    "\n",
    "    # test for OvO generalisation does not need to compute confusion matrix\n",
    "\n",
    "        if test_f == KP_test:   #OvR generalisation\n",
    "            rate, mtx = test_f(x_train, x_test, y_test,optimal_weight,d_star, kernel_function)\n",
    "            data_run.append([d_star, rate])\n",
    "            confusion_mistake.append(mtx)\n",
    "\n",
    "        else:                   #OvO generalisation\n",
    "            rate= test_f(x_train, x_test, y_test,optimal_weight,d_star, kernel_function)\n",
    "            data_run.append([d_star, rate])\n",
    "\n",
    "    if test_f == KP_test:\n",
    "        return np.array(data_run), np.array(confusion_mistake)\n",
    "    else:\n",
    "        return np.array(data_run)\n",
    "\n"
   ]
  },
  {
   "cell_type": "markdown",
   "metadata": {},
   "source": [
    "# Q1"
   ]
  },
  {
   "cell_type": "code",
   "execution_count": 79,
   "metadata": {},
   "outputs": [
    {
     "name": "stderr",
     "output_type": "stream",
     "text": [
      "C:\\Users\\jonas\\AppData\\Local\\Temp/ipykernel_38640/1114347381.py:18: RuntimeWarning: invalid value encountered in true_divide\n",
      "  confusion_mtx = np.nan_to_num(confusion_mtx.T/np.sum(confusion_mtx, axis = 1)).T\n"
     ]
    },
    {
     "data": {
      "text/plain": [
       "array([[7.35 , 0.219, 9.086, 1.224],\n",
       "       [1.234, 0.153, 4.263, 0.556],\n",
       "       [0.517, 0.079, 3.653, 0.404],\n",
       "       [0.305, 0.071, 3.32 , 0.313],\n",
       "       [0.175, 0.088, 3.188, 0.385],\n",
       "       [0.136, 0.058, 3.116, 0.423],\n",
       "       [0.106, 0.062, 3.202, 0.349]])"
      ]
     },
     "execution_count": 79,
     "metadata": {},
     "output_type": "execute_result"
    }
   ],
   "source": [
    "Q1_train_test_error = Q1_function(x,y, poly_kernel, multiclassOvR, test_f = KP_test)\n",
    "Q1_train_test_error"
   ]
  },
  {
   "cell_type": "markdown",
   "metadata": {},
   "source": [
    "# Q2 & Q3"
   ]
  },
  {
   "cell_type": "code",
   "execution_count": 80,
   "metadata": {},
   "outputs": [
    {
     "name": "stderr",
     "output_type": "stream",
     "text": [
      "C:\\Users\\jonas\\AppData\\Local\\Temp/ipykernel_38640/1114347381.py:18: RuntimeWarning: invalid value encountered in true_divide\n",
      "  confusion_mtx = np.nan_to_num(confusion_mtx.T/np.sum(confusion_mtx, axis = 1)).T\n"
     ]
    }
   ],
   "source": [
    "Q2_data, Q3_data = Q2_Q3_function(x,y,poly_kernel,gen_method=multiclassOvR, test_f=KP_test)"
   ]
  },
  {
   "cell_type": "code",
   "execution_count": 123,
   "metadata": {},
   "outputs": [
    {
     "name": "stdout",
     "output_type": "stream",
     "text": [
      "[[4.         3.5483871 ]\n",
      " [5.         3.70967742]\n",
      " [4.         3.60215054]\n",
      " [4.         2.90322581]\n",
      " [6.         2.58064516]\n",
      " [6.         2.41935484]\n",
      " [7.         3.17204301]\n",
      " [6.         3.38709677]\n",
      " [6.         2.74193548]\n",
      " [5.         3.06451613]\n",
      " [5.         4.46236559]\n",
      " [7.         3.70967742]\n",
      " [7.         2.95698925]\n",
      " [5.         2.79569892]\n",
      " [5.         2.74193548]\n",
      " [6.         3.49462366]\n",
      " [7.         3.22580645]\n",
      " [6.         2.79569892]\n",
      " [5.         3.27956989]\n",
      " [4.         3.97849462]]\n"
     ]
    }
   ],
   "source": [
    "cross_table = np.array(Q2_data)\n",
    "cross_table[:,-1] *= 100\n",
    "print(cross_table)"
   ]
  },
  {
   "cell_type": "code",
   "execution_count": 124,
   "metadata": {},
   "outputs": [
    {
     "name": "stdout",
     "output_type": "stream",
     "text": [
      "[[0.    0.063 0.088 0.108 0.082 0.213 0.19  0.014 0.127 0.066]\n",
      " [0.    0.    0.075 0.    0.309 0.025 0.181 0.119 0.112 0.028]\n",
      " [0.121 0.022 0.    0.234 0.203 0.015 0.039 0.182 0.102 0.082]\n",
      " [0.04  0.002 0.146 0.    0.    0.461 0.    0.138 0.143 0.071]\n",
      " [0.013 0.134 0.179 0.025 0.    0.076 0.023 0.115 0.027 0.308]\n",
      " [0.189 0.    0.108 0.252 0.077 0.    0.111 0.102 0.081 0.08 ]\n",
      " [0.325 0.079 0.135 0.    0.251 0.141 0.    0.    0.07  0.   ]\n",
      " [0.    0.067 0.135 0.111 0.238 0.069 0.    0.    0.053 0.326]\n",
      " [0.208 0.035 0.07  0.222 0.158 0.113 0.038 0.056 0.    0.1  ]\n",
      " [0.006 0.093 0.006 0.06  0.446 0.079 0.    0.266 0.044 0.   ]]\n",
      "[[0.    0.15  0.13  0.192 0.172 0.206 0.254 0.055 0.2   0.155]\n",
      " [0.    0.    0.179 0.    0.373 0.109 0.283 0.2   0.253 0.109]\n",
      " [0.212 0.059 0.    0.272 0.209 0.037 0.095 0.226 0.203 0.178]\n",
      " [0.137 0.007 0.237 0.    0.002 0.32  0.    0.193 0.195 0.174]\n",
      " [0.054 0.2   0.301 0.109 0.    0.16  0.045 0.255 0.109 0.298]\n",
      " [0.213 0.    0.212 0.309 0.128 0.    0.155 0.18  0.131 0.193]\n",
      " [0.289 0.145 0.24  0.    0.283 0.248 0.    0.    0.128 0.   ]\n",
      " [0.    0.149 0.256 0.233 0.244 0.192 0.002 0.    0.114 0.289]\n",
      " [0.254 0.104 0.13  0.225 0.238 0.163 0.112 0.12  0.    0.161]\n",
      " [0.027 0.196 0.017 0.128 0.341 0.19  0.    0.27  0.12  0.   ]]\n"
     ]
    }
   ],
   "source": [
    "print(np.mean(Q3_data, axis =0).round(3))\n",
    "print(np.std(Q3_data, axis =0).round(3))"
   ]
  },
  {
   "cell_type": "markdown",
   "metadata": {},
   "source": [
    "## Q4"
   ]
  },
  {
   "cell_type": "code",
   "execution_count": 81,
   "metadata": {},
   "outputs": [
    {
     "name": "stdout",
     "output_type": "stream",
     "text": [
      "[7524 7807 3227 8261 5296]\n"
     ]
    }
   ],
   "source": [
    "Q4_data =np.zeros_like(y)\n",
    "\n",
    "# 40 runs to find out the 5 hardest images to classify\n",
    "for run in range(40):\n",
    "    # training\n",
    "    x_train,y_train,x_test,y_test = train_test_split(x,y)\n",
    "    weight, _ = multiclassOvR(x_train,y_train,6,poly_kernel)\n",
    "    # predicting\n",
    "    test4_kernel_mtx = poly_kernel(x_train, x,6)\n",
    "    y_pred = np.argmax(weight @ test4_kernel_mtx,axis =0)\n",
    "    \n",
    "    #counting incorrect prediction\n",
    "    Q4_data[np.argwhere(y_pred != y)]+=1\n",
    "\n",
    "#output the 5 most often misclassified\n",
    "print(np.argsort(Q4_data)[-5:])"
   ]
  },
  {
   "cell_type": "code",
   "execution_count": 82,
   "metadata": {},
   "outputs": [
    {
     "data": {
      "image/png": "[encoded data removed]",
      "text/plain": [
       "<Figure size 1440x576 with 5 Axes>"
      ]
     },
     "metadata": {
      "needs_background": "light"
     },
     "output_type": "display_data"
    }
   ],
   "source": [
    "# visualising the 5 images\n",
    "\n",
    "worst5 = np.argsort(Q4_data)[-5:]\n",
    "\n",
    "plt.figure(figsize = (20,8))\n",
    "for i,j in enumerate(worst5):\n",
    "    plt.subplot(2,5,i+1)\n",
    "    plt.imshow(x[j,:].reshape(16,16), cmap = \"gray\")\n",
    "    plt.title('label =%.0f' % int(y[j]), fontsize=20)\n",
    "    plt.axis('off')\n"
   ]
  },
  {
   "cell_type": "markdown",
   "metadata": {},
   "source": [
    "## Q5"
   ]
  },
  {
   "cell_type": "code",
   "execution_count": 83,
   "metadata": {},
   "outputs": [],
   "source": [
    "def kernel_gaussian(xi, xj, c):\n",
    "    xi_norm = np.sum(xi**2, axis =-1)\n",
    "    xj_norm = np.sum(xj**2, axis =-1)\n",
    "    return np.exp(-c*(xi_norm[:, None] + xj_norm[None,:]-2*(xi @ xj.T)))"
   ]
  },
  {
   "cell_type": "code",
   "execution_count": 109,
   "metadata": {},
   "outputs": [
    {
     "data": {
      "text/plain": [
       "array([[0.000e+00, 0.000e+00, 6.132e+00, 6.490e-01],\n",
       "       [7.000e-03, 1.200e-02, 5.022e+00, 4.500e-01],\n",
       "       [2.900e-02, 2.200e-02, 3.392e+00, 3.580e-01],\n",
       "       [1.160e-01, 3.800e-02, 3.097e+00, 4.490e-01],\n",
       "       [8.420e-01, 1.610e-01, 4.097e+00, 6.940e-01],\n",
       "       [4.393e+00, 2.670e-01, 6.656e+00, 1.676e+00],\n",
       "       [8.778e+00, 2.720e-01, 1.050e+01, 4.141e+00]])"
      ]
     },
     "execution_count": 109,
     "metadata": {},
     "output_type": "execute_result"
    }
   ],
   "source": [
    "min_iter = 7\n",
    "GaussQ1_error = Q1_function(x,y,kernel_gaussian,multiclassOvR,KP_test)\n",
    "print(GaussQ1_error)"
   ]
  },
  {
   "cell_type": "code",
   "execution_count": 105,
   "metadata": {},
   "outputs": [
    {
     "name": "stderr",
     "output_type": "stream",
     "text": [
      "C:\\Users\\jonas\\AppData\\Local\\Temp/ipykernel_38640/1114347381.py:18: RuntimeWarning: invalid value encountered in true_divide\n",
      "  confusion_mtx = np.nan_to_num(confusion_mtx.T/np.sum(confusion_mtx, axis = 1)).T\n"
     ]
    }
   ],
   "source": [
    "GaussQ2_table = Q2_Q3_function(x,y,kernel_gaussian,multiclassOvR,KP_test)"
   ]
  },
  {
   "cell_type": "code",
   "execution_count": 119,
   "metadata": {},
   "outputs": [
    {
     "name": "stdout",
     "output_type": "stream",
     "text": [
      "[[0.012 3.387]\n",
      " [0.037 3.065]\n",
      " [0.012 3.763]\n",
      " [0.012 2.796]\n",
      " [0.012 2.688]\n",
      " [0.012 3.495]\n",
      " [0.012 3.495]\n",
      " [0.012 3.28 ]\n",
      " [0.037 2.849]\n",
      " [0.012 3.763]\n",
      " [0.012 3.065]\n",
      " [0.012 3.656]\n",
      " [0.012 2.957]\n",
      " [0.012 3.763]\n",
      " [0.012 2.634]\n",
      " [0.012 2.903]\n",
      " [0.037 4.301]\n",
      " [0.012 2.903]\n",
      " [0.012 2.796]\n",
      " [0.012 3.011]]\n"
     ]
    }
   ],
   "source": [
    "cross_table2 = np.array(GaussQ2_table[0])\n",
    "cross_table2[:,-1] *= 100\n",
    "print(cross_table2.round(3))"
   ]
  },
  {
   "cell_type": "markdown",
   "metadata": {},
   "source": [
    "# Q6"
   ]
  },
  {
   "cell_type": "code",
   "execution_count": 120,
   "metadata": {},
   "outputs": [
    {
     "name": "stdout",
     "output_type": "stream",
     "text": [
      "[[6.213 0.259 7.465 1.115]\n",
      " [2.312 0.168 4.414 0.523]\n",
      " [1.383 0.182 3.954 0.473]\n",
      " [1.07  0.117 3.667 0.482]\n",
      " [0.919 0.129 3.637 0.564]\n",
      " [0.818 0.119 3.548 0.576]\n",
      " [0.717 0.13  3.634 0.48 ]]\n"
     ]
    }
   ],
   "source": [
    "min_iter = 3\n",
    "Q6_I_data = Q1_function(x,y, poly_kernel, multiclassOvO, test_f=KP_test_OvO)\n",
    "print(Q6_I_data)"
   ]
  },
  {
   "cell_type": "code",
   "execution_count": 122,
   "metadata": {},
   "outputs": [
    {
     "name": "stdout",
     "output_type": "stream",
     "text": [
      "[[5.     0.0366]\n",
      " [3.     0.0403]\n",
      " [4.     0.1027]\n",
      " [5.     0.0339]\n",
      " [6.     0.0328]\n",
      " [4.     0.0376]\n",
      " [5.     0.0371]\n",
      " [7.     0.036 ]\n",
      " [5.     0.0328]\n",
      " [4.     0.0349]\n",
      " [4.     0.0398]\n",
      " [7.     0.0382]\n",
      " [5.     0.0204]\n",
      " [4.     0.0317]\n",
      " [5.     0.0301]\n",
      " [7.     0.0285]\n",
      " [7.     0.0296]\n",
      " [3.     0.036 ]\n",
      " [4.     0.0328]\n",
      " [4.     0.0403]]\n"
     ]
    }
   ],
   "source": [
    "Q6_II_data = Q2_Q3_function(x,y,poly_kernel,gen_method=multiclassOvO, test_f=KP_test_OvO)\n",
    "print(Q6_II_data.round(4))"
   ]
  }
 ],
 "metadata": {
  "interpreter": {
   "hash": "47557d4c79d94dea488ad004c647bd9b8540fb25b84014345ab51c2bc3084fc6"
  },
  "kernelspec": {
   "display_name": "Python 3.9.7 64-bit ('MVen': conda)",
   "language": "python",
   "name": "python3"
  },
  "language_info": {
   "codemirror_mode": {
    "name": "ipython",
    "version": 3
   },
   "file_extension": ".py",
   "mimetype": "text/x-python",
   "name": "python",
   "nbconvert_exporter": "python",
   "pygments_lexer": "ipython3",
   "version": "3.9.7"
  },
  "orig_nbformat": 4
 },
 "nbformat": 4,
 "nbformat_minor": 2
}
